{
 "cells": [
  {
   "cell_type": "markdown",
   "metadata": {},
   "source": [
    "# Version 3 of the Model - Transformers (BERT)"
   ]
  },
  {
   "cell_type": "markdown",
   "metadata": {},
   "source": [
    "- IMPORTS"
   ]
  },
  {
   "cell_type": "code",
   "execution_count": 15,
   "metadata": {},
   "outputs": [],
   "source": [
    "# Imports\n",
    "from keras.callbacks import EarlyStopping, LearningRateScheduler, CallbackList, ReduceLROnPlateau\n",
    "from sklearn.metrics import confusion_matrix, accuracy_score, classification_report\n",
    "from keras.layers import Embedding, LSTM, Dense, Dropout, Bidirectional\n",
    "from tensorflow.keras.preprocessing.sequence import pad_sequences\n",
    "from sklearn.feature_extraction.text import TfidfVectorizer\n",
    "from sklearn.utils.class_weight import compute_class_weight\n",
    "from tensorflow.keras.optimizers.experimental import Adam\n",
    "from sklearn.model_selection import train_test_split\n",
    "from keras.metrics import Precision, Recall, AUC\n",
    "from keras.preprocessing.text import Tokenizer\n",
    "from tensorflow.keras.models import load_model\n",
    "from sklearn.preprocessing import LabelEncoder\n",
    "from tokenizers import BertWordPieceTokenizer\n",
    "from tensorflow.keras import Sequential\n",
    "from keras.utils import to_categorical\n",
    "from nltk.corpus import stopwords\n",
    "from tensorflow import keras\n",
    "import matplotlib.pyplot as plt\n",
    "import tensorflow as tf\n",
    "from tqdm import tqdm\n",
    "import pandas as pd\n",
    "import transformers\n",
    "import numpy as np\n",
    "import warnings\n",
    "import spacy\n",
    "import nltk\n",
    "import math"
   ]
  },
  {
   "cell_type": "code",
   "execution_count": 16,
   "metadata": {},
   "outputs": [
    {
     "name": "stdout",
     "output_type": "stream",
     "text": [
      "env: TF_CPP_MIN_LOG_LEVEL=3\n"
     ]
    }
   ],
   "source": [
    "warnings.filterwarnings('ignore')\n",
    "%env TF_CPP_MIN_LOG_LEVEL=3"
   ]
  },
  {
   "cell_type": "code",
   "execution_count": 17,
   "metadata": {},
   "outputs": [],
   "source": [
    "# Loading training data\n",
    "training_data = pd.read_csv('dados_treino.txt', header=None, delimiter=';')\n",
    "\n",
    "# Loading test data\n",
    "training_test = pd.read_csv('dados_teste.txt', header=None, delimiter=';')\n",
    "\n",
    "# Adjusting column names\n",
    "training_data = training_data.rename(columns={0:'text', 1:'feeling'})\n",
    "training_test = training_test.rename(columns={0:'text', 1:'feeling'})"
   ]
  },
  {
   "cell_type": "code",
   "execution_count": 18,
   "metadata": {},
   "outputs": [
    {
     "name": "stdout",
     "output_type": "stream",
     "text": [
      "Training:  (16000, 2)\n",
      "Test:  (2000, 2)\n"
     ]
    }
   ],
   "source": [
    "# Looking at the shape of the data\n",
    "print('Training: ', training_data.shape)\n",
    "print('Test: ', training_test.shape)"
   ]
  },
  {
   "cell_type": "code",
   "execution_count": 19,
   "metadata": {},
   "outputs": [
    {
     "name": "stdout",
     "output_type": "stream",
     "text": [
      "Data of training  feeling\n",
      "joy         5362\n",
      "sadness     4666\n",
      "anger       2159\n",
      "fear        1937\n",
      "love        1304\n",
      "surprise     572\n",
      "Name: count, dtype: int64\n",
      "Data of test feeling\n",
      "joy         695\n",
      "sadness     581\n",
      "anger       275\n",
      "fear        224\n",
      "love        159\n",
      "surprise     66\n",
      "Name: count, dtype: int64\n"
     ]
    }
   ],
   "source": [
    "# Feelings present in training data\n",
    "print('Data of training ', training_data['feeling'].value_counts())\n",
    "# feelings presentes nos dados de teste\n",
    "print('Data of test', training_test['feeling'].value_counts())"
   ]
  },
  {
   "cell_type": "markdown",
   "metadata": {},
   "source": [
    "## Text data pre-processing"
   ]
  },
  {
   "cell_type": "code",
   "execution_count": 20,
   "metadata": {},
   "outputs": [
    {
     "name": "stdout",
     "output_type": "stream",
     "text": [
      "\u001b[38;5;2m✔ Download and installation successful\u001b[0m\n",
      "You can now load the package via spacy.load('en_core_web_md')\n"
     ]
    }
   ],
   "source": [
    "# Downloading the dictionary to simplify the text\n",
    "!python -m spacy download en_core_web_md -q\n",
    "\n",
    "# Loading the dictionary\n",
    "dict_nlp = spacy.load('en_core_web_md')"
   ]
  },
  {
   "cell_type": "code",
   "execution_count": 21,
   "metadata": {},
   "outputs": [
    {
     "data": {
      "text/html": [
       "<div>\n",
       "<style scoped>\n",
       "    .dataframe tbody tr th:only-of-type {\n",
       "        vertical-align: middle;\n",
       "    }\n",
       "\n",
       "    .dataframe tbody tr th {\n",
       "        vertical-align: top;\n",
       "    }\n",
       "\n",
       "    .dataframe thead th {\n",
       "        text-align: right;\n",
       "    }\n",
       "</style>\n",
       "<table border=\"1\" class=\"dataframe\">\n",
       "  <thead>\n",
       "    <tr style=\"text-align: right;\">\n",
       "      <th></th>\n",
       "      <th>text</th>\n",
       "      <th>feeling</th>\n",
       "      <th>processed_text</th>\n",
       "    </tr>\n",
       "  </thead>\n",
       "  <tbody>\n",
       "    <tr>\n",
       "      <th>0</th>\n",
       "      <td>i am feeling completely overwhelmed i have two...</td>\n",
       "      <td>fear</td>\n",
       "      <td>feel completely overwhelmed strategy help feel...</td>\n",
       "    </tr>\n",
       "    <tr>\n",
       "      <th>1</th>\n",
       "      <td>i have the feeling she was amused and delighted</td>\n",
       "      <td>joy</td>\n",
       "      <td>feeling amuse delight</td>\n",
       "    </tr>\n",
       "    <tr>\n",
       "      <th>2</th>\n",
       "      <td>i was able to help chai lifeline with your sup...</td>\n",
       "      <td>joy</td>\n",
       "      <td>able help chai lifeline support encouragement ...</td>\n",
       "    </tr>\n",
       "    <tr>\n",
       "      <th>3</th>\n",
       "      <td>i already feel like i fucked up though because...</td>\n",
       "      <td>anger</td>\n",
       "      <td>feel like fuck not usually eat morning</td>\n",
       "    </tr>\n",
       "    <tr>\n",
       "      <th>4</th>\n",
       "      <td>i still love my so and wish the best for him i...</td>\n",
       "      <td>sadness</td>\n",
       "      <td>love wish good long tolerate effect bm life fa...</td>\n",
       "    </tr>\n",
       "  </tbody>\n",
       "</table>\n",
       "</div>"
      ],
      "text/plain": [
       "                                                text  feeling  \\\n",
       "0  i am feeling completely overwhelmed i have two...     fear   \n",
       "1    i have the feeling she was amused and delighted      joy   \n",
       "2  i was able to help chai lifeline with your sup...      joy   \n",
       "3  i already feel like i fucked up though because...    anger   \n",
       "4  i still love my so and wish the best for him i...  sadness   \n",
       "\n",
       "                                      processed_text  \n",
       "0  feel completely overwhelmed strategy help feel...  \n",
       "1                              feeling amuse delight  \n",
       "2  able help chai lifeline support encouragement ...  \n",
       "3             feel like fuck not usually eat morning  \n",
       "4  love wish good long tolerate effect bm life fa...  "
      ]
     },
     "execution_count": 21,
     "metadata": {},
     "output_type": "execute_result"
    }
   ],
   "source": [
    "# Creating a function that will receive text as a parameter to be \"simplified\"\n",
    "def simplifies_text(text):\n",
    "    \n",
    "    # Process the text using the dictionary\n",
    "    doc = dict_nlp(text)\n",
    "\n",
    "    # Creates a list of lemmas from the tokens, converted to lowercase and without whitespace,\n",
    "    # And excluding words that are stopwords\n",
    "    tokens = [token.lemma_.lower().strip() for token in doc if not token.is_stop]\n",
    "\n",
    "    # Returns the processed tokens as a single string, joining them with spaces\n",
    "    return ' '.join(tokens)\n",
    "\n",
    "\n",
    "# Applying the function to training data\n",
    "training_data['processed_text'] = training_data['text'].apply(simplifies_text)\n",
    "\n",
    "# Applying the function to test data\n",
    "training_test['processed_text'] = training_test['text'].apply(simplifies_text)\n",
    "\n",
    "# Viewing the data\n",
    "training_data.head()"
   ]
  },
  {
   "cell_type": "code",
   "execution_count": 22,
   "metadata": {},
   "outputs": [],
   "source": [
    "# Function to encode text into a sequence of integers for BERT model input\n",
    "def tkn_encode(texts, tokenizer, chunk_size = 256, maxlen = 512):\n",
    "    \n",
    "    # Enable truncation in the tokenizer to a specified maximum length\n",
    "    tokenizer.enable_truncation(max_length = maxlen)\n",
    "    \n",
    "    # Enable padding in the tokenizer to a specific length\n",
    "    tokenizer.enable_padding(length = maxlen)\n",
    "    \n",
    "    # Initialize a list to store the encoded IDs\n",
    "    all_ids = []\n",
    "    \n",
    "    # iterate over the texts in chunks of size 'chunk_size'\n",
    "    for i in tqdm(range(0, len(texts), chunk_size)):\n",
    "        \n",
    "        # Create a chunk of text\n",
    "        text_chunk = texts[i:i+chunk_size].tolist()\n",
    "        \n",
    "        # Encode the piece of text in batch\n",
    "        encs = tokenizer.encode_batch(text_chunk)\n",
    "        \n",
    "        # Extend the all_ids list with encoded IDs\n",
    "        all_ids.extend([enc.ids for enc in encs])\n",
    "        \n",
    "    # Return the list of IDs as a numpy array\n",
    "    return np.array(all_ids)"
   ]
  },
  {
   "cell_type": "markdown",
   "metadata": {},
   "source": [
    "## Loading the Pre-Trained Model Tokenizers from the Huggingface platform"
   ]
  },
  {
   "cell_type": "code",
   "execution_count": 23,
   "metadata": {},
   "outputs": [
    {
     "data": {
      "text/plain": [
       "Tokenizer(vocabulary_size=119547, model=BertWordPiece, unk_token=[UNK], sep_token=[SEP], cls_token=[CLS], pad_token=[PAD], mask_token=[MASK], clean_text=True, handle_chinese_chars=True, strip_accents=None, lowercase=False, wordpieces_prefix=##)"
      ]
     },
     "execution_count": 23,
     "metadata": {},
     "output_type": "execute_result"
    }
   ],
   "source": [
    "# Load the tokenizer\n",
    "tokenizador_bert = transformers.DistilBertTokenizer.from_pretrained('distilbert-base-multilingual-cased')\n",
    "\n",
    "# Save tokenizer and vocabulary locally\n",
    "tokenizador_bert.save_pretrained('.')\n",
    "\n",
    "# Load a faster tokenizer using the vocabulary of the main tokenizer\n",
    "fast_tokenizer = BertWordPieceTokenizer('vocab.txt', lowercase = False)\n",
    "\n",
    "# View the tokenizer\n",
    "fast_tokenizer"
   ]
  },
  {
   "cell_type": "markdown",
   "metadata": {},
   "source": [
    "## Preparing data for training"
   ]
  },
  {
   "cell_type": "code",
   "execution_count": 24,
   "metadata": {},
   "outputs": [],
   "source": [
    "# Splitting data into training and validation with stratified sampling\n",
    "X_training, X_valid, Y_training, Y_valid = train_test_split(training_data['processed_text'].values,\n",
    "                                                        training_data['feeling'].values,\n",
    "                                                        test_size = 0.2,\n",
    "                                                        random_state = 42,\n",
    "                                                        stratify = training_data['feeling'])"
   ]
  },
  {
   "cell_type": "code",
   "execution_count": 25,
   "metadata": {},
   "outputs": [
    {
     "name": "stderr",
     "output_type": "stream",
     "text": [
      "100%|██████████| 50/50 [00:00<00:00, 368.01it/s]\n",
      "100%|██████████| 13/13 [00:00<00:00, 448.26it/s]\n",
      "100%|██████████| 8/8 [00:00<00:00, 374.14it/s]\n"
     ]
    }
   ],
   "source": [
    "# Maximum length used in text\n",
    "# We will use the value 100 but the function supports 512 and can be adjusted to more\n",
    "# In this case, we will only use 100 because of the samples we have\n",
    "max_length = 100\n",
    "\n",
    "\n",
    "# Apply encoding (tokenization) to our data, using the fastest tokenizer\n",
    "X_training_final = tkn_encode(X_training, fast_tokenizer, maxlen = max_length)\n",
    "X_valid_final = tkn_encode(X_valid, fast_tokenizer, maxlen = max_length)\n",
    "X_test_final = tkn_encode(training_test['processed_text'].to_numpy(), fast_tokenizer, maxlen = max_length)"
   ]
  },
  {
   "cell_type": "code",
   "execution_count": 26,
   "metadata": {},
   "outputs": [],
   "source": [
    "# Defining the output data encoder\n",
    "enc_le_BERT = LabelEncoder()\n",
    "\n",
    "# Applying the encoder only to training data\n",
    "Y_training_le = enc_le_BERT.fit_transform(Y_training)\n",
    "y_valid_le = enc_le_BERT.transform(Y_valid)\n",
    "y_teste_le = enc_le_BERT.transform(training_test['feeling'])\n",
    "\n",
    "# Convert the output variable to categorical\n",
    "Y_training_encoded = to_categorical(Y_training_le)\n",
    "y_valid_encoded = to_categorical(y_valid_le)\n",
    "y_teste_encoded = to_categorical(y_teste_le)\n",
    "\n",
    "# Batch size\n",
    "BATCH_SIZE = 16"
   ]
  },
  {
   "cell_type": "code",
   "execution_count": 27,
   "metadata": {},
   "outputs": [],
   "source": [
    "# Prepare training data for tensorflow (tensor) format\n",
    "dataset_treino = (tf.data.Dataset\n",
    "    .from_tensor_slices((X_training_final, Y_training_encoded))\n",
    "    .repeat()\n",
    "    .shuffle(2048)\n",
    "    .batch(BATCH_SIZE)\n",
    ")\n",
    "\n",
    "# Prepare validation data for tensorflow (tensor) format\n",
    "dataset_valid = (tf.data.Dataset\n",
    "    .from_tensor_slices((X_valid_final, y_valid_encoded))\n",
    "    .batch(BATCH_SIZE)\n",
    "    .cache()\n",
    ")\n",
    "\n",
    "# Prepare test data to tensorflow (tensor) format\n",
    "dataset_teste = (\n",
    "    tf.data.Dataset\n",
    "    .from_tensor_slices((X_test_final, y_teste_encoded))\n",
    "    .batch(BATCH_SIZE)\n",
    ")"
   ]
  },
  {
   "cell_type": "markdown",
   "metadata": {},
   "source": [
    "## Fine Tuning of the Transformer Model"
   ]
  },
  {
   "cell_type": "code",
   "execution_count": 28,
   "metadata": {},
   "outputs": [],
   "source": [
    "# Function for fine-tuning and training the model using a transformer (BERT)\n",
    "def creates_model(transformer, max_len = 512):\n",
    "    \n",
    "    # This first part is all inherited from the BERT architecture\n",
    "    \n",
    "   # Setting input layer with maximum sequence size\n",
    "    input_word_ids = tf.keras.layers.Input(shape = (max_len,),\n",
    "                                           dtype = tf.int32,\n",
    "                                           name = \"input_word_ids\")\n",
    "    \n",
    "    # Getting the output from the transformer sequence\n",
    "    sequence_output = transformer(input_word_ids)[0]\n",
    "    \n",
    "    # Selecting the first token of each sequence (CLS token in BERT) for classification\n",
    "    cls_token = sequence_output[:, 0, :]\n",
    "    \n",
    "    # Now let's implement our \"head\", basically the last layer of the model\n",
    "    \n",
    "    # Adding a dense layer to the output with softmax activation for classification\n",
    "    out = Dense(6, activation='softmax')(cls_token)\n",
    "    \n",
    "    # Building the keras model with defined inputs and outputs\n",
    "    model = tf.keras.Model(inputs = input_word_ids, outputs = out)\n",
    "    \n",
    "    # Compiling the model with the Adam optimizer, categorical cross-entropy loss and evaluation metrics\n",
    "    model.compile(tf.keras.optimizers.legacy.Adam(learning_rate = 1e-5),\n",
    "                   loss = 'categorical_crossentropy',\n",
    "                   metrics = ['accuracy', Precision(), Recall(), AUC()])\n",
    "    \n",
    "    # Returns the compiled model\n",
    "    return model"
   ]
  },
  {
   "cell_type": "markdown",
   "metadata": {},
   "source": [
    "## Loading the Pre-Trained model"
   ]
  },
  {
   "cell_type": "code",
   "execution_count": 29,
   "metadata": {},
   "outputs": [
    {
     "name": "stdout",
     "output_type": "stream",
     "text": [
      "WARNING:tensorflow:From c:\\Users\\coyot\\AppData\\Local\\Programs\\Python\\Python311\\Lib\\site-packages\\keras\\src\\backend.py:873: The name tf.get_default_graph is deprecated. Please use tf.compat.v1.get_default_graph instead.\n",
      "\n"
     ]
    },
    {
     "name": "stderr",
     "output_type": "stream",
     "text": [
      "Some weights of the PyTorch model were not used when initializing the TF 2.0 model TFDistilBertModel: ['vocab_projector.bias', 'vocab_layer_norm.weight', 'vocab_transform.bias', 'vocab_layer_norm.bias', 'vocab_transform.weight']\n",
      "- This IS expected if you are initializing TFDistilBertModel from a PyTorch model trained on another task or with another architecture (e.g. initializing a TFBertForSequenceClassification model from a BertForPreTraining model).\n",
      "- This IS NOT expected if you are initializing TFDistilBertModel from a PyTorch model that you expect to be exactly identical (e.g. initializing a TFBertForSequenceClassification model from a BertForSequenceClassification model).\n",
      "All the weights of TFDistilBertModel were initialized from the PyTorch model.\n",
      "If your task is similar to the task the model of the checkpoint was trained on, you can already use TFDistilBertModel for predictions without further training.\n"
     ]
    }
   ],
   "source": [
    "# Creates an instance of the pre-trained, multilingual DistilBERT model suitable for use with TensorFlow\n",
    "transformer_layer = (transformers.TFDistilBertModel.from_pretrained('distilbert-base-multilingual-cased'))"
   ]
  },
  {
   "cell_type": "code",
   "execution_count": 30,
   "metadata": {},
   "outputs": [
    {
     "name": "stdout",
     "output_type": "stream",
     "text": [
      "Model: \"model\"\n",
      "_________________________________________________________________\n",
      " Layer (type)                Output Shape              Param #   \n",
      "=================================================================\n",
      " input_word_ids (InputLayer  [(None, 100)]             0         \n",
      " )                                                               \n",
      "                                                                 \n",
      " tf_distil_bert_model (TFDi  TFBaseModelOutput(last_   134734080 \n",
      " stilBertModel)              hidden_state=(None, 100             \n",
      "                             , 768),                             \n",
      "                              hidden_states=None, at             \n",
      "                             tentions=None)                      \n",
      "                                                                 \n",
      " tf.__operators__.getitem (  (None, 768)               0         \n",
      " SlicingOpLambda)                                                \n",
      "                                                                 \n",
      " dense (Dense)               (None, 6)                 4614      \n",
      "                                                                 \n",
      "=================================================================\n",
      "Total params: 134738694 (513.99 MB)\n",
      "Trainable params: 134738694 (513.99 MB)\n",
      "Non-trainable params: 0 (0.00 Byte)\n",
      "_________________________________________________________________\n"
     ]
    }
   ],
   "source": [
    "# Create the model with the pre-trained transformer layers and our custom layers for fine-tuning\n",
    "model_BERT = creates_model(transformer_layer, max_len=max_length)\n",
    "\n",
    "# Model summary\n",
    "model_BERT.summary()"
   ]
  },
  {
   "cell_type": "code",
   "execution_count": 31,
   "metadata": {},
   "outputs": [],
   "source": [
    "# Defining the first three layers of the model as untrainable\n",
    "model_BERT.layers[0].trainable=False\n",
    "model_BERT.layers[1].trainable=False\n",
    "model_BERT.layers[2].trainable=False"
   ]
  },
  {
   "cell_type": "code",
   "execution_count": 32,
   "metadata": {},
   "outputs": [],
   "source": [
    "# Hyperparameters\n",
    "n_steps = X_training_final.shape[0] // BATCH_SIZE\n",
    "num_epochs = 3"
   ]
  },
  {
   "cell_type": "markdown",
   "metadata": {},
   "source": [
    "## Training the model"
   ]
  },
  {
   "cell_type": "code",
   "execution_count": 33,
   "metadata": {},
   "outputs": [
    {
     "name": "stdout",
     "output_type": "stream",
     "text": [
      "Epoch 1/3\n",
      "WARNING:tensorflow:From c:\\Users\\coyot\\AppData\\Local\\Programs\\Python\\Python311\\Lib\\site-packages\\keras\\src\\utils\\tf_utils.py:492: The name tf.ragged.RaggedTensorValue is deprecated. Please use tf.compat.v1.ragged.RaggedTensorValue instead.\n",
      "\n",
      "WARNING:tensorflow:From c:\\Users\\coyot\\AppData\\Local\\Programs\\Python\\Python311\\Lib\\site-packages\\keras\\src\\engine\\base_layer_utils.py:384: The name tf.executing_eagerly_outside_functions is deprecated. Please use tf.compat.v1.executing_eagerly_outside_functions instead.\n",
      "\n",
      "800/800 [==============================] - 862s 1s/step - loss: 1.1885 - accuracy: 0.5370 - precision: 0.7842 - recall: 0.3285 - auc: 0.8513 - val_loss: 0.4699 - val_accuracy: 0.8416 - val_precision: 0.8835 - val_recall: 0.8059 - val_auc: 0.9763\n",
      "Epoch 2/3\n",
      "800/800 [==============================] - 839s 1s/step - loss: 0.3933 - accuracy: 0.8614 - precision: 0.8867 - recall: 0.8360 - auc: 0.9828 - val_loss: 0.3275 - val_accuracy: 0.8797 - val_precision: 0.8973 - val_recall: 0.8681 - val_auc: 0.9876\n",
      "Epoch 3/3\n",
      "800/800 [==============================] - 882s 1s/step - loss: 0.2575 - accuracy: 0.9006 - precision: 0.9153 - recall: 0.8885 - auc: 0.9924 - val_loss: 0.2933 - val_accuracy: 0.8928 - val_precision: 0.9009 - val_recall: 0.8838 - val_auc: 0.9890\n"
     ]
    }
   ],
   "source": [
    "history = model_BERT.fit(dataset_treino,\n",
    "                            steps_per_epoch = n_steps,\n",
    "                            validation_data = dataset_valid,\n",
    "                            epochs = num_epochs)"
   ]
  },
  {
   "cell_type": "code",
   "execution_count": 34,
   "metadata": {},
   "outputs": [
    {
     "data": {
      "image/png": "[encoded data removed]",
      "text/plain": [
       "<Figure size 640x480 with 1 Axes>"
      ]
     },
     "metadata": {},
     "output_type": "display_data"
    }
   ],
   "source": [
    "# Learning Crusades\n",
    "loss, val_loss = history.history['loss'], history.history['val_loss']\n",
    "plt.plot(loss, label='Training error')\n",
    "plt.plot(val_loss, label='Validation Error')\n",
    "plt.legend()\n",
    "plt.show()"
   ]
  },
  {
   "cell_type": "code",
   "execution_count": 35,
   "metadata": {},
   "outputs": [
    {
     "name": "stdout",
     "output_type": "stream",
     "text": [
      "63/63 [==============================] - 35s 534ms/step\n",
      "              precision    recall  f1-score   support\n",
      "\n",
      "           0       0.92      0.90      0.91       275\n",
      "           1       0.93      0.83      0.88       224\n",
      "           2       0.90      0.94      0.92       695\n",
      "           3       0.80      0.71      0.75       159\n",
      "           4       0.95      0.92      0.93       581\n",
      "           5       0.65      0.97      0.78        66\n",
      "\n",
      "    accuracy                           0.90      2000\n",
      "   macro avg       0.86      0.88      0.86      2000\n",
      "weighted avg       0.90      0.90      0.90      2000\n",
      "\n"
     ]
    }
   ],
   "source": [
    "# Predictions\n",
    "predictions = model_BERT.predict(X_test_final)\n",
    "\n",
    "# Labels\n",
    "prediction_labels = predictions.argmax(axis=1)\n",
    "\n",
    "print(classification_report(y_teste_le, prediction_labels))"
   ]
  },
  {
   "cell_type": "code",
   "execution_count": 36,
   "metadata": {},
   "outputs": [
    {
     "name": "stdout",
     "output_type": "stream",
     "text": [
      "[[248   3   6   4  14   0]\n",
      " [  7 186   2   1   3  25]\n",
      " [  3   1 654  20   8   9]\n",
      " [  1   0  40 113   5   0]\n",
      " [ 11   9  24   3 534   0]\n",
      " [  0   2   0   0   0  64]]\n"
     ]
    }
   ],
   "source": [
    "# Confusion matrix\n",
    "print(confusion_matrix(y_teste_le, prediction_labels))"
   ]
  },
  {
   "cell_type": "code",
   "execution_count": 37,
   "metadata": {},
   "outputs": [
    {
     "name": "stdout",
     "output_type": "stream",
     "text": [
      "0.8995\n"
     ]
    }
   ],
   "source": [
    "# accuracy_score\n",
    "print(accuracy_score(y_teste_le, prediction_labels))"
   ]
  },
  {
   "cell_type": "code",
   "execution_count": 38,
   "metadata": {},
   "outputs": [],
   "source": [
    "# Save the model in TensorFlow format (Tensor)\n",
    "model_BERT.save(\"model_BERT.keras\", save_format = 'tf')"
   ]
  },
  {
   "cell_type": "markdown",
   "metadata": {},
   "source": [
    "## Model deployment"
   ]
  },
  {
   "cell_type": "code",
   "execution_count": null,
   "metadata": {},
   "outputs": [],
   "source": [
    "# Loading the model\n",
    "\n",
    "# Imports\n",
    "from transformers import TFDistilBertModel\n",
    "from tensorflow.keras.utils import custom_object_scope\n",
    "\n",
    "# Register custom layer and load the model\n",
    "with custom_object_scope({'TFDistilBertModel': TFDistilBertModel}):\n",
    "    model_reloaded = tf.keras.models.load_model(\"model_BERT.keras\")"
   ]
  },
  {
   "cell_type": "code",
   "execution_count": null,
   "metadata": {},
   "outputs": [],
   "source": [
    "# New phrase (feeling = love)\n",
    "phrase = \"From the moment I saw you, I fell in love\"\n",
    "\n",
    "# Create a dataframe with the phrase\n",
    "df_phrase = pd.DataFrame({'phrase':[phrase]})\n",
    "\n",
    "# Apply processing function (SpiCy)\n",
    "df_phrase['phrase_Processada'] = df_phrase['phrase'].apply(simplifies_text)\n",
    "new_phrase = tkn_encode(df_phrase['phrase_Processada'], fast_tokenizer, maxlen=max_length)\n",
    "\n",
    "# Make prediction with the loaded model\n",
    "prediction = model_reloaded.predict(new_phrase)\n",
    "\n",
    "# Select the class with the highest probability\n",
    "class_largest_prob = np.argmax(prediction, axis=1)\n",
    "\n",
    "# Gets the name of the Class\n",
    "class_name = enc_le_BERT.inverse_transform(class_largest_prob)\n",
    "\n",
    "print('Predicted class:', class_name)"
   ]
  }
 ],
 "metadata": {
  "kernelspec": {
   "display_name": "Python 3",
   "language": "python",
   "name": "python3"
  },
  "language_info": {
   "codemirror_mode": {
    "name": "ipython",
    "version": 3
   },
   "file_extension": ".py",
   "mimetype": "text/x-python",
   "name": "python",
   "nbconvert_exporter": "python",
   "pygments_lexer": "ipython3",
   "version": "3.11.5"
  }
 },
 "nbformat": 4,
 "nbformat_minor": 2
}
